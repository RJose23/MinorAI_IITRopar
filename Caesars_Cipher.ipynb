{
  "nbformat": 4,
  "nbformat_minor": 0,
  "metadata": {
    "colab": {
      "provenance": [],
      "authorship_tag": "ABX9TyNBZn9YlmMRblMihUSVFH+F",
      "include_colab_link": true
    },
    "kernelspec": {
      "name": "python3",
      "display_name": "Python 3"
    },
    "language_info": {
      "name": "python"
    }
  },
  "cells": [
    {
      "cell_type": "markdown",
      "metadata": {
        "id": "view-in-github",
        "colab_type": "text"
      },
      "source": [
        "<a href=\"https://colab.research.google.com/github/RJose23/MinorAI_IITRopar/blob/main/Caesars_Cipher.ipynb\" target=\"_parent\"><img src=\"https://colab.research.google.com/assets/colab-badge.svg\" alt=\"Open In Colab\"/></a>"
      ]
    },
    {
      "cell_type": "code",
      "execution_count": 16,
      "metadata": {
        "colab": {
          "base_uri": "https://localhost:8080/"
        },
        "id": "xaE4IDTBD1qt",
        "outputId": "fe825636-0ae7-4ad5-87b9-cc0d8ea0de5f"
      },
      "outputs": [
        {
          "output_type": "stream",
          "name": "stdout",
          "text": [
            "97\n",
            "65\n",
            "122\n",
            "90\n",
            "48\n",
            "57\n",
            "a\n",
            "h\n",
            "z\n",
            "Z\n",
            "0\n",
            "9\n"
          ]
        }
      ],
      "source": [
        "# To find ASCII value of a character\n",
        "\n",
        "print(ord('a'))\n",
        "print(ord('A'))\n",
        "print(ord('z'))\n",
        "print(ord('Z'))\n",
        "print(ord('0'))\n",
        "print(ord('9'))\n",
        "\n",
        "# To find character from ASCII value\n",
        "\n",
        "print(chr(97))\n",
        "print(chr(104))\n",
        "print(chr(122))\n",
        "print(chr(90))\n",
        "print(chr(48))\n",
        "print(chr(57))"
      ]
    },
    {
      "cell_type": "code",
      "source": [
        "print(chr(ord('a')+3))"
      ],
      "metadata": {
        "colab": {
          "base_uri": "https://localhost:8080/"
        },
        "id": "73_zyUsFfF9k",
        "outputId": "a2f9b8da-7fad-4840-dfaa-884dc2a3e6a9"
      },
      "execution_count": 10,
      "outputs": [
        {
          "output_type": "stream",
          "name": "stdout",
          "text": [
            "d\n"
          ]
        }
      ]
    },
    {
      "cell_type": "code",
      "source": [
        "new =((ord('e') - ord('a') + 3)%26) + ord('a')\n",
        "\n",
        "#Steps followed here to encrypt -\n",
        "# Find ascii value ord('e')\n",
        "# Find index value ord(e)-ord(a)\n",
        "# add shift value 3 : ord(e)-ord(a) +3\n",
        "# Make it circular (ord(e)-ord(a)+3)%26\n",
        "# Convert back to ASCII  (ord(e)-ord(a)+3)%26 + ord(a)\n",
        "print(new)\n",
        "print(chr(new))"
      ],
      "metadata": {
        "colab": {
          "base_uri": "https://localhost:8080/"
        },
        "id": "iVHiBO4VnddY",
        "outputId": "4acd4e68-0879-473b-aefa-c631b8c0bef9"
      },
      "execution_count": 19,
      "outputs": [
        {
          "output_type": "stream",
          "name": "stdout",
          "text": [
            "104\n",
            "h\n"
          ]
        }
      ]
    },
    {
      "cell_type": "code",
      "source": [
        "# Encrypt message\n",
        "\n",
        "def encrypted(text):\n",
        "  e_text = \"\"\n",
        "  for char in text:\n",
        "    if char.isalpha():            #Check if it is an alphabet\n",
        "      if char.islower():\n",
        "        e_char = chr((ord(char) - ord('a') + 3)%26 + ord('a'))\n",
        "      else:\n",
        "        e_char = chr((ord(char) - ord('A') + 3)%26 + ord('A'))\n",
        "    else:\n",
        "      e_char = char\n",
        "    e_text += e_char\n",
        "  return e_text\n",
        "\n",
        "encrypted(\"hello\")\n"
      ],
      "metadata": {
        "colab": {
          "base_uri": "https://localhost:8080/",
          "height": 35
        },
        "id": "1H079vf5qJ08",
        "outputId": "003aef44-e4e2-472d-8d92-719183f3ac7c"
      },
      "execution_count": 22,
      "outputs": [
        {
          "output_type": "execute_result",
          "data": {
            "text/plain": [
              "'khoor'"
            ],
            "application/vnd.google.colaboratory.intrinsic+json": {
              "type": "string"
            }
          },
          "metadata": {},
          "execution_count": 22
        }
      ]
    },
    {
      "cell_type": "code",
      "source": [
        "with open(\"ecrpy.txt\",'w') as f1:\n",
        "  f1.write(\"Hello\")\n"
      ],
      "metadata": {
        "id": "39O2ztc68-dT"
      },
      "execution_count": 24,
      "outputs": []
    },
    {
      "cell_type": "code",
      "source": [
        "with open(\"ecrpy.txt\",'r') as f2:\n",
        "  text =f2.read()\n",
        "  print(encrypted(text))"
      ],
      "metadata": {
        "colab": {
          "base_uri": "https://localhost:8080/"
        },
        "id": "bj2WNCeX-pUy",
        "outputId": "0f777448-d8c1-4443-ce45-3bcf2f5e69fd"
      },
      "execution_count": 30,
      "outputs": [
        {
          "output_type": "stream",
          "name": "stdout",
          "text": [
            "Khoor\n"
          ]
        }
      ]
    },
    {
      "cell_type": "code",
      "source": [
        "# Decrypting message\n",
        "\n",
        "def decrypted(text):\n",
        "  e_text = \"\"\n",
        "  for char in text:\n",
        "    if char.isalpha():            #Check if it is an alphabet\n",
        "      if char.islower():\n",
        "        e_char = chr((ord(char) - ord('a') - 3)%26 + ord('a'))\n",
        "      else:\n",
        "        e_char = chr((ord(char) - ord('A') - 3)%26 + ord('A'))\n",
        "    else:\n",
        "      e_char = char\n",
        "    e_text += e_char\n",
        "  return e_text\n",
        "\n",
        "decrypted(\"Khoor\")\n"
      ],
      "metadata": {
        "colab": {
          "base_uri": "https://localhost:8080/",
          "height": 35
        },
        "id": "5-8CjpId_YcZ",
        "outputId": "7082198c-c99e-4de9-a61a-313e45cdf6f7"
      },
      "execution_count": 31,
      "outputs": [
        {
          "output_type": "execute_result",
          "data": {
            "text/plain": [
              "'Hello'"
            ],
            "application/vnd.google.colaboratory.intrinsic+json": {
              "type": "string"
            }
          },
          "metadata": {},
          "execution_count": 31
        }
      ]
    }
  ]
}