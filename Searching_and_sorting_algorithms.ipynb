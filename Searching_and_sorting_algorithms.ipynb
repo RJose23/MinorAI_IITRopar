{
  "nbformat": 4,
  "nbformat_minor": 0,
  "metadata": {
    "colab": {
      "provenance": [],
      "authorship_tag": "ABX9TyPegipMgy5rGK82FhkM0kQf",
      "include_colab_link": true
    },
    "kernelspec": {
      "name": "python3",
      "display_name": "Python 3"
    },
    "language_info": {
      "name": "python"
    }
  },
  "cells": [
    {
      "cell_type": "markdown",
      "metadata": {
        "id": "view-in-github",
        "colab_type": "text"
      },
      "source": [
        "<a href=\"https://colab.research.google.com/github/RJose23/MinorAI_IITRopar/blob/main/Searching_and_sorting_algorithms.ipynb\" target=\"_parent\"><img src=\"https://colab.research.google.com/assets/colab-badge.svg\" alt=\"Open In Colab\"/></a>"
      ]
    },
    {
      "cell_type": "code",
      "execution_count": 1,
      "metadata": {
        "id": "NAPROWu6M7tX"
      },
      "outputs": [],
      "source": [
        "import array"
      ]
    },
    {
      "cell_type": "code",
      "source": [
        "arr = array.array('i',[1,2,3,4,5]) # i => integer typw\n",
        "print(arr)"
      ],
      "metadata": {
        "colab": {
          "base_uri": "https://localhost:8080/"
        },
        "id": "SGi4eQvYQbbo",
        "outputId": "4ecf8558-7210-45b9-958b-aa6ca4675b8d"
      },
      "execution_count": 2,
      "outputs": [
        {
          "output_type": "stream",
          "name": "stdout",
          "text": [
            "array('i', [1, 2, 3, 4, 5])\n"
          ]
        }
      ]
    },
    {
      "cell_type": "markdown",
      "source": [
        "**Linear Search**"
      ],
      "metadata": {
        "id": "F2GGFIpCRq21"
      }
    },
    {
      "cell_type": "code",
      "source": [
        "l1 = [10,23,45,70,11]\n",
        "\n",
        "# Return index of the element if that element is present\n",
        "# Else return -1\n",
        "\n",
        "n = int(input(\"Enter number to find\"))\n",
        "found = False\n",
        "for i in range(len(l1)):\n",
        "  if l1[i] == n:\n",
        "    print(i)\n",
        "    found = True\n",
        "    break\n",
        "  else:\n",
        "    continue\n",
        "\n",
        "if found == False:\n",
        "  print(-1)\n",
        "\n",
        ""
      ],
      "metadata": {
        "colab": {
          "base_uri": "https://localhost:8080/"
        },
        "id": "b4_bTGBHRpqF",
        "outputId": "b5f7a3b5-e04c-4aaf-e241-21e1bf4480da"
      },
      "execution_count": 8,
      "outputs": [
        {
          "output_type": "stream",
          "name": "stdout",
          "text": [
            "Enter number to find70\n",
            "3\n"
          ]
        }
      ]
    },
    {
      "cell_type": "markdown",
      "source": [
        "**Binary search**"
      ],
      "metadata": {
        "id": "HGgchApEUnMD"
      }
    },
    {
      "cell_type": "code",
      "source": [
        "arr = array.array('i',[10,23,35,45,50])\n",
        "\n",
        "n = int(input(\"Enter number to find\"))\n",
        "size = len(arr)-1\n",
        "\n",
        "start =0\n",
        "end = size -1\n",
        "\n",
        "while(start<=end):\n",
        "  mid = int((start+end))//2\n",
        "  if arr[mid] == n:\n",
        "    print(mid)\n",
        "    break\n",
        "  elif arr[mid] < n:\n",
        "    start = mid+1\n",
        "  else:\n",
        "    end = mid-1\n",
        "else:\n",
        "  print(-1)\n",
        "\n"
      ],
      "metadata": {
        "colab": {
          "base_uri": "https://localhost:8080/"
        },
        "id": "91ZsFD4-S2w8",
        "outputId": "bb7b52d3-03af-4ceb-9bc2-412c973022a3"
      },
      "execution_count": 13,
      "outputs": [
        {
          "output_type": "stream",
          "name": "stdout",
          "text": [
            "Enter number to find45\n",
            "3\n"
          ]
        }
      ]
    },
    {
      "cell_type": "markdown",
      "source": [
        "*BUBBLE SORT*"
      ],
      "metadata": {
        "id": "wvG1ZABTYy2I"
      }
    },
    {
      "cell_type": "code",
      "source": [
        "arr = array.array('i',[10,23,50,45,25])"
      ],
      "metadata": {
        "id": "_CUHBqaqYypX"
      },
      "execution_count": 18,
      "outputs": []
    },
    {
      "cell_type": "code",
      "source": [
        "n = len(arr)\n",
        "#This is the code for a single pass\n",
        "for passes in range(n-1):\n",
        "  for i in range(0,n-1-passes):\n",
        "    if arr[i] > arr[i+1]:\n",
        "    #Swap\n",
        "      temp= arr[i]\n",
        "      arr[i] = arr[i+1]\n",
        "      arr[i+1] = temp\n",
        "    else:\n",
        "      continue\n",
        "\n",
        "print(arr)"
      ],
      "metadata": {
        "colab": {
          "base_uri": "https://localhost:8080/"
        },
        "id": "d1DNQhs2bSFq",
        "outputId": "d3da0591-4670-4fd9-e6fa-c824bac88d10"
      },
      "execution_count": 23,
      "outputs": [
        {
          "output_type": "stream",
          "name": "stdout",
          "text": [
            "array('i', [10, 23, 25, 45, 50])\n"
          ]
        }
      ]
    },
    {
      "cell_type": "markdown",
      "source": [
        "*SELECTION SORT*"
      ],
      "metadata": {
        "id": "VOCPvA5Ih0ds"
      }
    },
    {
      "cell_type": "code",
      "source": [],
      "metadata": {
        "id": "yda6tbjfh2yE"
      },
      "execution_count": null,
      "outputs": []
    },
    {
      "cell_type": "code",
      "source": [],
      "metadata": {
        "id": "AxR-h1V_hc4_"
      },
      "execution_count": null,
      "outputs": []
    },
    {
      "cell_type": "code",
      "source": [],
      "metadata": {
        "id": "9IgNLzLeegZX"
      },
      "execution_count": null,
      "outputs": []
    }
  ]
}